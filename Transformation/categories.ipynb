{
 "cells": [
  {
   "cell_type": "code",
   "execution_count": 1,
   "id": "ea8ac88d",
   "metadata": {},
   "outputs": [],
   "source": [
    "import pandas as pd\n",
    "import os"
   ]
  },
  {
   "cell_type": "code",
   "execution_count": 2,
   "id": "891d14d7",
   "metadata": {},
   "outputs": [
    {
     "name": "stdout",
     "output_type": "stream",
     "text": [
      "<class 'pandas.core.frame.DataFrame'>\n",
      "RangeIndex: 7 entries, 0 to 6\n",
      "Data columns (total 4 columns):\n",
      " #   Column         Non-Null Count  Dtype \n",
      "---  ------         --------------  ----- \n",
      " 0   category_id    7 non-null      int64 \n",
      " 1   category_name  7 non-null      object\n",
      " 2   source         7 non-null      object\n",
      " 3   timestamp      7 non-null      object\n",
      "dtypes: int64(1), object(3)\n",
      "memory usage: 352.0+ bytes\n"
     ]
    }
   ],
   "source": [
    "path = '../staging_1/categories/'\n",
    "name = 'categories.csv'\n",
    "df = pd.read_csv(path+name)\n",
    "df.info()"
   ]
  },
  {
   "cell_type": "code",
   "execution_count": 3,
   "id": "657269f6",
   "metadata": {},
   "outputs": [
    {
     "data": {
      "text/plain": [
       "0"
      ]
     },
     "execution_count": 3,
     "metadata": {},
     "output_type": "execute_result"
    }
   ],
   "source": [
    "df.duplicated().sum()"
   ]
  },
  {
   "cell_type": "code",
   "execution_count": 4,
   "id": "f3df4f4b",
   "metadata": {},
   "outputs": [],
   "source": [
    "# Assuming 'name' contains the file name including the extension '.csv'\n",
    "file_name = name[:-4]\n",
    "new_path = '../staging_2/'\n",
    "\n",
    "# Expand '~' to the user's home directory\n",
    "new_path = os.path.expanduser(new_path)\n",
    "\n",
    "# Construct the folder path with the file name\n",
    "folder_path = os.path.join(new_path, file_name)\n",
    "\n",
    "# Create the folder\n",
    "os.makedirs(folder_path, exist_ok=True)\n",
    "\n",
    "# Construct the file path within the newly created folder\n",
    "file_path = os.path.join(folder_path, name)\n",
    "\n",
    "# Save brands_df to the file_path\n",
    "df.to_csv(file_path, index=False)"
   ]
  },
  {
   "cell_type": "code",
   "execution_count": null,
   "id": "8a09f3dd",
   "metadata": {},
   "outputs": [],
   "source": []
  },
  {
   "cell_type": "code",
   "execution_count": null,
   "id": "a70dfe60",
   "metadata": {},
   "outputs": [],
   "source": []
  },
  {
   "cell_type": "code",
   "execution_count": null,
   "id": "98bfc407",
   "metadata": {},
   "outputs": [],
   "source": []
  },
  {
   "cell_type": "code",
   "execution_count": null,
   "id": "e8d8aff8",
   "metadata": {},
   "outputs": [],
   "source": []
  },
  {
   "cell_type": "code",
   "execution_count": null,
   "id": "0463d4a8",
   "metadata": {},
   "outputs": [],
   "source": []
  }
 ],
 "metadata": {
  "kernelspec": {
   "display_name": "Python 3 (ipykernel)",
   "language": "python",
   "name": "python3"
  },
  "language_info": {
   "codemirror_mode": {
    "name": "ipython",
    "version": 3
   },
   "file_extension": ".py",
   "mimetype": "text/x-python",
   "name": "python",
   "nbconvert_exporter": "python",
   "pygments_lexer": "ipython3",
   "version": "3.9.12"
  }
 },
 "nbformat": 4,
 "nbformat_minor": 5
}
