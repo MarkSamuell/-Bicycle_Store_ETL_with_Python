{
 "cells": [
  {
   "cell_type": "code",
   "execution_count": 1,
   "id": "39321965",
   "metadata": {},
   "outputs": [
    {
     "data": {
      "text/html": [
       "<div>\n",
       "<style scoped>\n",
       "    .dataframe tbody tr th:only-of-type {\n",
       "        vertical-align: middle;\n",
       "    }\n",
       "\n",
       "    .dataframe tbody tr th {\n",
       "        vertical-align: top;\n",
       "    }\n",
       "\n",
       "    .dataframe thead th {\n",
       "        text-align: right;\n",
       "    }\n",
       "</style>\n",
       "<table border=\"1\" class=\"dataframe\">\n",
       "  <thead>\n",
       "    <tr style=\"text-align: right;\">\n",
       "      <th></th>\n",
       "      <th>status_id</th>\n",
       "      <th>status_name</th>\n",
       "    </tr>\n",
       "  </thead>\n",
       "  <tbody>\n",
       "    <tr>\n",
       "      <th>0</th>\n",
       "      <td>1</td>\n",
       "      <td>Pending</td>\n",
       "    </tr>\n",
       "    <tr>\n",
       "      <th>1</th>\n",
       "      <td>2</td>\n",
       "      <td>Processing</td>\n",
       "    </tr>\n",
       "    <tr>\n",
       "      <th>2</th>\n",
       "      <td>3</td>\n",
       "      <td>Rejected</td>\n",
       "    </tr>\n",
       "    <tr>\n",
       "      <th>3</th>\n",
       "      <td>4</td>\n",
       "      <td>Completed</td>\n",
       "    </tr>\n",
       "  </tbody>\n",
       "</table>\n",
       "</div>"
      ],
      "text/plain": [
       "   status_id status_name\n",
       "0          1     Pending\n",
       "1          2  Processing\n",
       "2          3    Rejected\n",
       "3          4   Completed"
      ]
     },
     "execution_count": 1,
     "metadata": {},
     "output_type": "execute_result"
    }
   ],
   "source": [
    "import os\n",
    "import pandas as pd\n",
    "\n",
    "order_status_lookup = pd.DataFrame({\n",
    "    'status_id': [1, 2, 3, 4],\n",
    "    'status_name': ['Pending', 'Processing', 'Rejected', 'Completed']\n",
    "})\n",
    "\n",
    "order_status_lookup"
   ]
  },
  {
   "cell_type": "code",
   "execution_count": 2,
   "id": "43a93d30",
   "metadata": {},
   "outputs": [],
   "source": [
    "# Assuming 'name' contains the file name including the extension '.csv'\n",
    "new_path = '../staging_2/'\n",
    "\n",
    "# Expand '~' to the user's home directory\n",
    "new_path = os.path.expanduser(new_path)\n",
    "\n",
    "# Construct the folder path with the file name\n",
    "folder_path = os.path.join(new_path, 'order_status_lookup')\n",
    "\n",
    "# Create the folder\n",
    "os.makedirs(folder_path, exist_ok=True)\n",
    "\n",
    "# Construct the file path within the newly created folder\n",
    "file_path = os.path.join(folder_path, 'order_status_lookup.csv')\n",
    "\n",
    "# Save brands_df to the file_path\n",
    "order_status_lookup.to_csv(file_path, index=False)"
   ]
  },
  {
   "cell_type": "code",
   "execution_count": null,
   "id": "f6eaf95c",
   "metadata": {},
   "outputs": [],
   "source": []
  }
 ],
 "metadata": {
  "kernelspec": {
   "display_name": "Python 3 (ipykernel)",
   "language": "python",
   "name": "python3"
  },
  "language_info": {
   "codemirror_mode": {
    "name": "ipython",
    "version": 3
   },
   "file_extension": ".py",
   "mimetype": "text/x-python",
   "name": "python",
   "nbconvert_exporter": "python",
   "pygments_lexer": "ipython3",
   "version": "3.9.12"
  }
 },
 "nbformat": 4,
 "nbformat_minor": 5
}
