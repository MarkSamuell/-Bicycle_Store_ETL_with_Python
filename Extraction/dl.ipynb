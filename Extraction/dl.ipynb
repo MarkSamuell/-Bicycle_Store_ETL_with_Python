{
 "cells": [
  {
   "cell_type": "code",
   "execution_count": 1,
   "id": "9d924caf",
   "metadata": {},
   "outputs": [],
   "source": [
    "import pandas as pd\n",
    "import os"
   ]
  },
  {
   "cell_type": "code",
   "execution_count": 2,
   "id": "f96d0dd2",
   "metadata": {},
   "outputs": [],
   "source": [
    "def extract_file(csv_file, source):\n",
    "    df = pd.read_csv(csv_file)\n",
    "    df['source'], df['timestamp'] = source, pd.Timestamp.now() \n",
    "    file_name = os.path.basename(csv_file)\n",
    "    landing_path = \"../landing/{}\".format(file_name)\n",
    "    df.to_csv(landing_path, index=False)\n",
    "    "
   ]
  },
  {
   "cell_type": "code",
   "execution_count": 3,
   "id": "1999a1fd",
   "metadata": {},
   "outputs": [],
   "source": [
    "source_path = \"../source\"\n",
    "source_path = os.path.expanduser(source_path)  \n",
    "source = 'datalake'\n",
    "\n",
    "for file_name in os.listdir(source_path):\n",
    "    file_path = os.path.join(source_path, file_name)\n",
    "    if os.path.isfile(file_path):\n",
    "        \n",
    "        extract_file(file_path, source)\n"
   ]
  },
  {
   "cell_type": "code",
   "execution_count": null,
   "id": "313214a0",
   "metadata": {},
   "outputs": [],
   "source": []
  }
 ],
 "metadata": {
  "kernelspec": {
   "display_name": "Python 3 (ipykernel)",
   "language": "python",
   "name": "python3"
  },
  "language_info": {
   "codemirror_mode": {
    "name": "ipython",
    "version": 3
   },
   "file_extension": ".py",
   "mimetype": "text/x-python",
   "name": "python",
   "nbconvert_exporter": "python",
   "pygments_lexer": "ipython3",
   "version": "3.9.12"
  }
 },
 "nbformat": 4,
 "nbformat_minor": 5
}
