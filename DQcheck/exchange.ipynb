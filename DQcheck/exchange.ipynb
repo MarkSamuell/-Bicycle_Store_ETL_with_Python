{
 "cells": [
  {
   "cell_type": "code",
   "execution_count": 1,
   "id": "8bf34661",
   "metadata": {},
   "outputs": [
    {
     "name": "stdout",
     "output_type": "stream",
     "text": [
      "<class 'pandas.core.frame.DataFrame'>\n",
      "RangeIndex: 1 entries, 0 to 0\n",
      "Data columns (total 3 columns):\n",
      " #   Column     Non-Null Count  Dtype  \n",
      "---  ------     --------------  -----  \n",
      " 0   EGP        1 non-null      float64\n",
      " 1   timestamp  1 non-null      int64  \n",
      " 2   source     1 non-null      object \n",
      "dtypes: float64(1), int64(1), object(1)\n",
      "memory usage: 152.0+ bytes\n"
     ]
    }
   ],
   "source": [
    "import pandas as pd\n",
    "import os\n",
    "\n",
    "path = '../landing/'\n",
    "name = 'exchange.csv'\n",
    "df = pd.read_csv(path+name)\n",
    "df.info()"
   ]
  },
  {
   "cell_type": "code",
   "execution_count": 2,
   "id": "b92e25d8",
   "metadata": {},
   "outputs": [],
   "source": [
    "# Assuming 'name' contains the file name including the extension '.csv'\n",
    "file_name = name[:-4]\n",
    "new_path = '../staging_1/'\n",
    "\n",
    "# Expand '~' to the user's home directory\n",
    "new_path = os.path.expanduser(new_path)\n",
    "\n",
    "# Construct the folder path with the file name\n",
    "folder_path = os.path.join(new_path, file_name)\n",
    "\n",
    "# Create the folder\n",
    "os.makedirs(folder_path, exist_ok=True)\n",
    "\n",
    "# Construct the file path within the newly created folder\n",
    "file_path = os.path.join(folder_path, name)\n",
    "\n",
    "# Save brands_df to the file_path\n",
    "df.to_csv(file_path, index=False)"
   ]
  },
  {
   "cell_type": "code",
   "execution_count": null,
   "id": "52deb202",
   "metadata": {},
   "outputs": [],
   "source": []
  }
 ],
 "metadata": {
  "kernelspec": {
   "display_name": "Python 3 (ipykernel)",
   "language": "python",
   "name": "python3"
  },
  "language_info": {
   "codemirror_mode": {
    "name": "ipython",
    "version": 3
   },
   "file_extension": ".py",
   "mimetype": "text/x-python",
   "name": "python",
   "nbconvert_exporter": "python",
   "pygments_lexer": "ipython3",
   "version": "3.9.12"
  }
 },
 "nbformat": 4,
 "nbformat_minor": 5
}
