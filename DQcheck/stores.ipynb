{
 "cells": [
  {
   "cell_type": "code",
   "execution_count": 2,
   "id": "6603e624",
   "metadata": {},
   "outputs": [],
   "source": [
    "import pandas as pd\n",
    "import os"
   ]
  },
  {
   "cell_type": "code",
   "execution_count": 3,
   "id": "090df623",
   "metadata": {},
   "outputs": [
    {
     "name": "stdout",
     "output_type": "stream",
     "text": [
      "<class 'pandas.core.frame.DataFrame'>\n",
      "RangeIndex: 3 entries, 0 to 2\n",
      "Data columns (total 10 columns):\n",
      " #   Column      Non-Null Count  Dtype  \n",
      "---  ------      --------------  -----  \n",
      " 0   store_id    3 non-null      int64  \n",
      " 1   store_name  3 non-null      object \n",
      " 2   phone       3 non-null      object \n",
      " 3   email       2 non-null      object \n",
      " 4   street      3 non-null      object \n",
      " 5   city        3 non-null      object \n",
      " 6   state       3 non-null      object \n",
      " 7   zip_code    2 non-null      float64\n",
      " 8   source      3 non-null      object \n",
      " 9   timestamp   3 non-null      object \n",
      "dtypes: float64(1), int64(1), object(8)\n",
      "memory usage: 368.0+ bytes\n"
     ]
    }
   ],
   "source": [
    "path = '../landing/'\n",
    "name = 'stores.csv'\n",
    "df = pd.read_csv(path+name)\n",
    "df.info()"
   ]
  },
  {
   "cell_type": "code",
   "execution_count": 4,
   "id": "4d8d0cca",
   "metadata": {},
   "outputs": [
    {
     "data": {
      "text/html": [
       "<div>\n",
       "<style scoped>\n",
       "    .dataframe tbody tr th:only-of-type {\n",
       "        vertical-align: middle;\n",
       "    }\n",
       "\n",
       "    .dataframe tbody tr th {\n",
       "        vertical-align: top;\n",
       "    }\n",
       "\n",
       "    .dataframe thead th {\n",
       "        text-align: right;\n",
       "    }\n",
       "</style>\n",
       "<table border=\"1\" class=\"dataframe\">\n",
       "  <thead>\n",
       "    <tr style=\"text-align: right;\">\n",
       "      <th></th>\n",
       "      <th>store_id</th>\n",
       "      <th>store_name</th>\n",
       "      <th>phone</th>\n",
       "      <th>email</th>\n",
       "      <th>street</th>\n",
       "      <th>city</th>\n",
       "      <th>state</th>\n",
       "      <th>zip_code</th>\n",
       "      <th>source</th>\n",
       "      <th>timestamp</th>\n",
       "    </tr>\n",
       "  </thead>\n",
       "  <tbody>\n",
       "    <tr>\n",
       "      <th>0</th>\n",
       "      <td>1</td>\n",
       "      <td>Santa Cruz Bikes</td>\n",
       "      <td>(831) 476-4321</td>\n",
       "      <td>NaN</td>\n",
       "      <td>3700 Portola Drive</td>\n",
       "      <td>Santa Cruz</td>\n",
       "      <td>CA</td>\n",
       "      <td>NaN</td>\n",
       "      <td>datalake</td>\n",
       "      <td>2024-04-30 07:52:07.931216</td>\n",
       "    </tr>\n",
       "    <tr>\n",
       "      <th>1</th>\n",
       "      <td>2</td>\n",
       "      <td>Baldwin Bikes</td>\n",
       "      <td>(516) 379-8888</td>\n",
       "      <td>baldwin@bikes.shop</td>\n",
       "      <td>4200 Chestnut Lane</td>\n",
       "      <td>Baldwin</td>\n",
       "      <td>NY</td>\n",
       "      <td>11432.0</td>\n",
       "      <td>datalake</td>\n",
       "      <td>2024-04-30 07:52:07.931216</td>\n",
       "    </tr>\n",
       "    <tr>\n",
       "      <th>2</th>\n",
       "      <td>3</td>\n",
       "      <td>Rowlett Bikes</td>\n",
       "      <td>(972) 530-5555</td>\n",
       "      <td>rowlett@bikes.shop</td>\n",
       "      <td>8000 Fairway Avenue</td>\n",
       "      <td>Rowlett</td>\n",
       "      <td>TX</td>\n",
       "      <td>75088.0</td>\n",
       "      <td>datalake</td>\n",
       "      <td>2024-04-30 07:52:07.931216</td>\n",
       "    </tr>\n",
       "  </tbody>\n",
       "</table>\n",
       "</div>"
      ],
      "text/plain": [
       "   store_id        store_name           phone               email  \\\n",
       "0         1  Santa Cruz Bikes  (831) 476-4321                 NaN   \n",
       "1         2     Baldwin Bikes  (516) 379-8888  baldwin@bikes.shop   \n",
       "2         3     Rowlett Bikes  (972) 530-5555  rowlett@bikes.shop   \n",
       "\n",
       "                street        city state  zip_code    source  \\\n",
       "0   3700 Portola Drive  Santa Cruz    CA       NaN  datalake   \n",
       "1   4200 Chestnut Lane     Baldwin    NY   11432.0  datalake   \n",
       "2  8000 Fairway Avenue     Rowlett    TX   75088.0  datalake   \n",
       "\n",
       "                    timestamp  \n",
       "0  2024-04-30 07:52:07.931216  \n",
       "1  2024-04-30 07:52:07.931216  \n",
       "2  2024-04-30 07:52:07.931216  "
      ]
     },
     "execution_count": 4,
     "metadata": {},
     "output_type": "execute_result"
    }
   ],
   "source": [
    "df"
   ]
  },
  {
   "cell_type": "code",
   "execution_count": 5,
   "id": "0238b1e3",
   "metadata": {},
   "outputs": [],
   "source": [
    "# Assuming 'name' contains the file name including the extension '.csv'\n",
    "file_name = name[:-4]\n",
    "new_path = '../staging_1/'\n",
    "\n",
    "# Expand '~' to the user's home directory\n",
    "new_path = os.path.expanduser(new_path)\n",
    "\n",
    "# Construct the folder path with the file name\n",
    "folder_path = os.path.join(new_path, file_name)\n",
    "\n",
    "# Create the folder\n",
    "os.makedirs(folder_path, exist_ok=True)\n",
    "\n",
    "# Construct the file path within the newly created folder\n",
    "file_path = os.path.join(folder_path, name)\n",
    "\n",
    "# Save brands_df to the file_path\n",
    "df.to_csv(file_path, index=False)"
   ]
  },
  {
   "cell_type": "code",
   "execution_count": null,
   "id": "eb120f28",
   "metadata": {},
   "outputs": [],
   "source": []
  }
 ],
 "metadata": {
  "kernelspec": {
   "display_name": "Python 3 (ipykernel)",
   "language": "python",
   "name": "python3"
  },
  "language_info": {
   "codemirror_mode": {
    "name": "ipython",
    "version": 3
   },
   "file_extension": ".py",
   "mimetype": "text/x-python",
   "name": "python",
   "nbconvert_exporter": "python",
   "pygments_lexer": "ipython3",
   "version": "3.9.12"
  }
 },
 "nbformat": 4,
 "nbformat_minor": 5
}
