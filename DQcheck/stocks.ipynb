{
 "cells": [
  {
   "cell_type": "code",
   "execution_count": 1,
   "id": "64ca3aa3",
   "metadata": {},
   "outputs": [],
   "source": [
    "import pandas as pd\n",
    "import os"
   ]
  },
  {
   "cell_type": "code",
   "execution_count": 2,
   "id": "9ed0c468",
   "metadata": {},
   "outputs": [
    {
     "name": "stdout",
     "output_type": "stream",
     "text": [
      "<class 'pandas.core.frame.DataFrame'>\n",
      "RangeIndex: 939 entries, 0 to 938\n",
      "Data columns (total 5 columns):\n",
      " #   Column      Non-Null Count  Dtype \n",
      "---  ------      --------------  ----- \n",
      " 0   store_id    939 non-null    int64 \n",
      " 1   product_id  939 non-null    int64 \n",
      " 2   quantity    939 non-null    int64 \n",
      " 3   source      939 non-null    object\n",
      " 4   timestamp   939 non-null    object\n",
      "dtypes: int64(3), object(2)\n",
      "memory usage: 36.8+ KB\n"
     ]
    }
   ],
   "source": [
    "path = '../landing/'\n",
    "name = 'stocks.csv'\n",
    "df = pd.read_csv(path+name)\n",
    "df.info()"
   ]
  },
  {
   "cell_type": "code",
   "execution_count": 3,
   "id": "82cb8a98",
   "metadata": {},
   "outputs": [
    {
     "data": {
      "text/plain": [
       "0"
      ]
     },
     "execution_count": 3,
     "metadata": {},
     "output_type": "execute_result"
    }
   ],
   "source": [
    "df.duplicated().sum()"
   ]
  },
  {
   "cell_type": "code",
   "execution_count": 4,
   "id": "b297a8d2",
   "metadata": {},
   "outputs": [],
   "source": [
    "# Assuming 'name' contains the file name including the extension '.csv'\n",
    "file_name = name[:-4]\n",
    "new_path = '../staging_1/'\n",
    "\n",
    "# Expand '~' to the user's home directory\n",
    "new_path = os.path.expanduser(new_path)\n",
    "\n",
    "# Construct the folder path with the file name\n",
    "folder_path = os.path.join(new_path, file_name)\n",
    "\n",
    "# Create the folder\n",
    "os.makedirs(folder_path, exist_ok=True)\n",
    "\n",
    "# Construct the file path within the newly created folder\n",
    "file_path = os.path.join(folder_path, name)\n",
    "\n",
    "# Save brands_df to the file_path\n",
    "df.to_csv(file_path, index=False)"
   ]
  },
  {
   "cell_type": "code",
   "execution_count": null,
   "id": "f5ec51b5",
   "metadata": {},
   "outputs": [],
   "source": []
  }
 ],
 "metadata": {
  "kernelspec": {
   "display_name": "Python 3 (ipykernel)",
   "language": "python",
   "name": "python3"
  },
  "language_info": {
   "codemirror_mode": {
    "name": "ipython",
    "version": 3
   },
   "file_extension": ".py",
   "mimetype": "text/x-python",
   "name": "python",
   "nbconvert_exporter": "python",
   "pygments_lexer": "ipython3",
   "version": "3.9.12"
  }
 },
 "nbformat": 4,
 "nbformat_minor": 5
}
